{
 "cells": [
  {
   "cell_type": "code",
   "execution_count": null,
   "id": "159a59bb",
   "metadata": {},
   "outputs": [],
   "source": [
    "# --- Cell 1: Imports & Config ---\n",
    "import osmnx as ox\n",
    "import networkx as nx\n",
    "import geopandas as gpd\n",
    "import random\n",
    "from shapely.geometry import LineString, mapping\n",
    "import json\n",
    "\n",
    "# Coordinates: Example (Empire State → East Village)\n",
    "start_coords = (40.748817, -73.985428)\n",
    "end_coords = (40.730610, -73.935242)"
   ]
  },
  {
   "cell_type": "code",
   "execution_count": 3,
   "id": "31adad0c",
   "metadata": {},
   "outputs": [
    {
     "name": "stdout",
     "output_type": "stream",
     "text": [
      "Graph has 13977 nodes and 44352 edges\n"
     ]
    }
   ],
   "source": [
    "# --- Cell 2: Build the OSM network graph ---\n",
    "# Create a pedestrian network around start_coords\n",
    "G = ox.graph_from_point(start_coords, dist=3000, network_type=\"walk\")\n",
    "print(f\"Graph has {len(G.nodes)} nodes and {len(G.edges)} edges\")"
   ]
  },
  {
   "cell_type": "code",
   "execution_count": 4,
   "id": "8916cb58",
   "metadata": {},
   "outputs": [
    {
     "name": "stdout",
     "output_type": "stream",
     "text": [
      "Origin Node: 7782217001, Destination Node: 589100791\n"
     ]
    }
   ],
   "source": [
    "# --- Cell 3: Get the nearest nodes for start and end points ---\n",
    "orig_node = ox.nearest_nodes(G, start_coords[1], start_coords[0])\n",
    "dest_node = ox.nearest_nodes(G, end_coords[1], end_coords[0])\n",
    "print(f\"Origin Node: {orig_node}, Destination Node: {dest_node}\")"
   ]
  },
  {
   "cell_type": "code",
   "execution_count": 5,
   "id": "731d0f41",
   "metadata": {},
   "outputs": [
    {
     "name": "stdout",
     "output_type": "stream",
     "text": [
      "Route has 58 nodes\n"
     ]
    }
   ],
   "source": [
    "# --- Cell 4: Compute the shortest route based on length ---\n",
    "route = nx.shortest_path(G, orig_node, dest_node, weight=\"length\")\n",
    "print(f\"Route has {len(route)} nodes\")"
   ]
  },
  {
   "cell_type": "code",
   "execution_count": 6,
   "id": "d3d6e6c3",
   "metadata": {},
   "outputs": [
    {
     "name": "stdout",
     "output_type": "stream",
     "text": [
      "Processed 57 route segments with environmental proxies\n"
     ]
    }
   ],
   "source": [
    "# --- Cell 5: Assign proxy environmental attributes to each edge ---\n",
    "edges = []\n",
    "for u, v in zip(route[:-1], route[1:]):\n",
    "    data = G[u][v][0]\n",
    "    geom = data.get(\n",
    "        \"geometry\",\n",
    "        LineString(\n",
    "            [(G.nodes[u][\"x\"], G.nodes[u][\"y\"]), (G.nodes[v][\"x\"], G.nodes[v][\"y\"])]\n",
    "        ),\n",
    "    )\n",
    "\n",
    "    # Simulate environmental values\n",
    "    sun_exposure = round(random.uniform(0, 1), 2)\n",
    "    shade_index = round(1 - sun_exposure, 2)\n",
    "    wind_intensity = round(random.uniform(0, 1), 2)\n",
    "    crowd_density = round(random.uniform(0, 1), 2)\n",
    "    env_weight = round((sun_exposure + wind_intensity + crowd_density) / 3, 2)\n",
    "\n",
    "    edges.append(\n",
    "        {\n",
    "            \"geometry\": geom,\n",
    "            \"length\": data[\"length\"],\n",
    "            \"sun\": sun_exposure,\n",
    "            \"shade\": shade_index,\n",
    "            \"wind\": wind_intensity,\n",
    "            \"crowd\": crowd_density,\n",
    "            \"env_weight\": env_weight,\n",
    "        }\n",
    "    )\n",
    "\n",
    "print(f\"Processed {len(edges)} route segments with environmental proxies\")"
   ]
  },
  {
   "cell_type": "code",
   "execution_count": 7,
   "id": "91212cc4",
   "metadata": {},
   "outputs": [
    {
     "name": "stdout",
     "output_type": "stream",
     "text": [
      "Summary Floats for Wardrobe Panel: {'avgSun': 0.54, 'avgWind': 0.53, 'avgCrowd': 0.44, 'avgShade': 0.46}\n"
     ]
    }
   ],
   "source": [
    "# --- Cell 6: Compute average environmental values for entire route ---\n",
    "avg_sun = round(sum(e[\"sun\"] for e in edges) / len(edges), 2)\n",
    "avg_wind = round(sum(e[\"wind\"] for e in edges) / len(edges), 2)\n",
    "avg_crowd = round(sum(e[\"crowd\"] for e in edges) / len(edges), 2)\n",
    "avg_shade = round(sum(e[\"shade\"] for e in edges) / len(edges), 2)\n",
    "\n",
    "summary = {\n",
    "    \"avgSun\": avg_sun,\n",
    "    \"avgWind\": avg_wind,\n",
    "    \"avgCrowd\": avg_crowd,\n",
    "    \"avgShade\": avg_shade,\n",
    "}\n",
    "\n",
    "print(\"Summary Floats for Wardrobe Panel:\", summary)"
   ]
  },
  {
   "cell_type": "code",
   "execution_count": 9,
   "id": "7f0e8bbd",
   "metadata": {},
   "outputs": [
    {
     "name": "stdout",
     "output_type": "stream",
     "text": [
      "GeoJSON saved to ../data/route_with_env.json\n"
     ]
    }
   ],
   "source": [
    "# --- Cell 7: Export route with attributes as GeoJSON ---\n",
    "import os\n",
    "\n",
    "# Ensure data directory exists\n",
    "output_dir = \"../data\"\n",
    "os.makedirs(output_dir, exist_ok=True)\n",
    "\n",
    "# Save GeoJSON\n",
    "output_path = os.path.join(output_dir, \"route_with_env.json\")\n",
    "\n",
    "with open(output_path, \"w\") as f:\n",
    "    json.dump(geojson_data, f)\n",
    "\n",
    "print(f\"GeoJSON saved to {output_path}\")"
   ]
  },
  {
   "cell_type": "code",
   "execution_count": 10,
   "id": "c563f548",
   "metadata": {},
   "outputs": [
    {
     "data": {
      "text/plain": [
       "<Axes: >"
      ]
     },
     "execution_count": 10,
     "metadata": {},
     "output_type": "execute_result"
    },
    {
     "data": {
      "image/png": "[encoded data removed]",
      "text/plain": [
       "<Figure size 640x480 with 2 Axes>"
      ]
     },
     "metadata": {},
     "output_type": "display_data"
    }
   ],
   "source": [
    "# --- Cell 8: Quick visualization for sanity check ---\n",
    "gdf.plot(column=\"env_weight\", cmap=\"coolwarm\", legend=True)"
   ]
  }
 ],
 "metadata": {
  "kernelspec": {
   "display_name": "cdp",
   "language": "python",
   "name": "python3"
  },
  "language_info": {
   "codemirror_mode": {
    "name": "ipython",
    "version": 3
   },
   "file_extension": ".py",
   "mimetype": "text/x-python",
   "name": "python",
   "nbconvert_exporter": "python",
   "pygments_lexer": "ipython3",
   "version": "3.12.11"
  }
 },
 "nbformat": 4,
 "nbformat_minor": 5
}
